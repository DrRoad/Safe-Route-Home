{
 "cells": [
  {
   "cell_type": "markdown",
   "metadata": {
    "deletable": true,
    "editable": true
   },
   "source": [
    "# Safe Route Home\n",
    "Alisha Pegan, Christina Gee, Frances Devanbu, Jeff Pflueger\n"
   ]
  },
  {
   "cell_type": "markdown",
   "metadata": {
    "deletable": true,
    "editable": true
   },
   "source": [
    "## Background and context\n",
    "\n",
    "For some people, walking home at night is a worrisome experience due to car collision, assault, traffic, and many other reasons. A national survey on pedestrian safety shows that 12% of pedestrian injuries are caused by being hit by a car, and accidents usually occur in the evening. According to Stop Street Harassment, 65% of women experience street harassment and 43% experience physical assault. We want to support these people with Safe Route Home, a web app dedicated to helping you find paths to minimize these problems in the Boston area. By providing a panel where you can select types of crime and accidents that you want to avoid, the app displays various walking paths better for you. We want to be aware that historically, apps like this propose routes that avoid POC and minority communities due to inherent biases for the definition of safety. We are exploring ways we can avoid similar issues by investigating our data and questioning our own personal biases.\n",
    "\n",
    "Our MVP is a web page that takes two locations and returns a walking route between them optimising for speed and safety on two scales - traffic and vehicular accidents. A stretch goal is our MVP that includes more metrics, such as types of crime, lighting, and seclusion"
   ]
  },
  {
   "cell_type": "markdown",
   "metadata": {
    "deletable": true,
    "editable": true
   },
   "source": [
    "## Key Questions:\n",
    "\n",
    "### Technical\n",
    "\n",
    "* What part of our code should we structure as a class?\n",
    "\n",
    "### Ethical\n",
    "\n",
    "* How do we address the ethical and social concerns with gathering \"safety\" Data?\n",
    " "
   ]
  },
  {
   "cell_type": "markdown",
   "metadata": {
    "deletable": true,
    "editable": true
   },
   "source": [
    "## Agenda\n",
    "\n",
    "* Introduction\n",
    "* Technical Question\n",
    "    * How do we structure our code with classes?\n",
    "    * Feedback\n",
    "* Ethical Question\n",
    "    * How do we address the ethical and social concerns with gathering \"Safety\" Data?\n",
    "    * Discussion\n",
    "* Feedback"
   ]
  },
  {
   "cell_type": "markdown",
   "metadata": {
    "deletable": true,
    "editable": true
   },
   "source": [
    "## Data  Provided \n",
    "* Incident Number \n",
    "* Offense \n",
    "* Offense Code Group\n",
    "* Offense Description \n",
    "* District \n",
    "* Reporting Area \n",
    "* Occurrence Date \n",
    "* Hour \n",
    "* Year \n",
    "* Month \n",
    "* Day of Week \n",
    "* Street \n",
    "* Latitude \n",
    "* Longitude"
   ]
  },
  {
   "cell_type": "markdown",
   "metadata": {
    "deletable": true,
    "editable": true
   },
   "source": [
    "## Categories of Potentially Relevant Safety Concerns: \n",
    "* Arson\n",
    "* Auto Theft\n",
    "* Disorderly Conduct\n",
    "* Firearm Violation\n",
    "* Firearm Discovery\n",
    "* Home Invasion\n",
    "* Homicide\n",
    "* Indecent Assault\n",
    "* Larceny\n",
    "* Larceny from motor vehicles\n",
    "* Manslaughter\n",
    "* Missing person reported\n",
    "* Motor Vehicle Accident\n",
    "* Offences against child/family\n",
    "* Operating under the influence\n",
    "* Property Damage\n",
    "* Prostitution\n",
    "* Residential Burglary\n",
    "* Robbery\n",
    "* Sex offender registration\n",
    "* Simple assault\n",
    "* Verbal Disputes\n"
   ]
  },
  {
   "cell_type": "markdown",
   "metadata": {},
   "source": [
    "## Architecture Flow"
   ]
  },
  {
   "cell_type": "code",
   "execution_count": 2,
   "metadata": {
    "collapsed": false
   },
   "outputs": [
    {
     "data": {
      "text/html": [
       "<img src=\"https://lh3.google.com/u/0/d/0BzECAZ4ie4u2U1poREg4ZEJWWHM=w2455-h1245-iv1\"/>"
      ],
      "text/plain": [
       "<IPython.core.display.Image object>"
      ]
     },
     "execution_count": 2,
     "metadata": {},
     "output_type": "execute_result"
    }
   ],
   "source": [
    "from IPython.display import Image\n",
    "from IPython.core.display import HTML \n",
    "Image(url= \"https://lh3.google.com/u/0/d/0BzECAZ4ie4u2U1poREg4ZEJWWHM=w2455-h1245-iv1\")"
   ]
  },
  {
   "cell_type": "code",
   "execution_count": null,
   "metadata": {
    "collapsed": true
   },
   "outputs": [],
   "source": []
  }
 ],
 "metadata": {
  "kernelspec": {
   "display_name": "Python 3",
   "language": "python",
   "name": "python3"
  },
  "language_info": {
   "codemirror_mode": {
    "name": "ipython",
    "version": 3
   },
   "file_extension": ".py",
   "mimetype": "text/x-python",
   "name": "python",
   "nbconvert_exporter": "python",
   "pygments_lexer": "ipython3",
   "version": "3.5.2"
  }
 },
 "nbformat": 4,
 "nbformat_minor": 2
}
