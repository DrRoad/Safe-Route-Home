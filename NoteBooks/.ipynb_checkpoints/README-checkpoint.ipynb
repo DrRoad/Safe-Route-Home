{
 "cells": [
  {
   "cell_type": "markdown",
   "metadata": {},
   "source": [
    "# Safe-Route-Home\n",
    "Route Home is an application that allows you to get from Point A to Point B safely. To visit our website\n",
    "please go to: [https://safe-route-home.herokuapp.com/]"
   ]
  },
  {
   "cell_type": "markdown",
   "metadata": {},
   "source": [
    "## How does it work?\n",
    "We pulled from the Boston Crime data set located on the boston.gov website. We were fortunate that the dataset was clean so we did not have to format the data further. When the user fills out the location form all the data points are passed through the URL parameters, and the crime database is filtered based on the user's safety requirements indicated by the checkboxes. The database is then iterated through into a python dictionary which is passed to MapQuest as a JSON object of crime points to avoid along with the start and end location. Map Quest then returns to Django another JSON object which contains various navigation information and step by step directions. We then parsed through that data and iterate over it into our HTML template.\n"
   ]
  },
  {
   "cell_type": "markdown",
   "metadata": {},
   "source": [
    "## Developer Guide\n",
    "\n",
    "  <br />Open your command line and navigate to the folder you want to install the program. \n",
    "  \n",
    "  ### In your command line:\n",
    "\n",
    "  `mkdir Safe-Route-Home`\n",
    "\n",
    "  `virtualenv .`\n",
    "\n",
    "  ### Go to the github repository and clone it: \n",
    "  <a href=\"https://github.com/christinagee/Safe-Route-Home\">https://github.com/christinagee/Safe-Route-Home</a>\n",
    "  \n",
    "  `git clone https://github.com/christinagee/Safe-Route-Home`\n",
    "\n",
    "  ### Navigate to the subfolder:\n",
    "  \n",
    "  `cd Safe-Route-Home`\n",
    "\n",
    "  ### Install all the necessary programs:  \n",
    "\n",
    "  `pip install -r requirements.txt`\n",
    "\n",
    "  ###  Run the webpage using Django:  \n",
    "\n",
    "  `python manage.py runserver`\n",
    "  \n",
    "### Usage\n",
    "\n",
    "\n",
    "Once you run the program in your terminal, click on the link http://127.0.0.1:8000/, or the link posted in the terminal.  \n",
    "\n",
    "You will be directed to the website, and can navigate through the website via the home page, about, team, and readme pages (where you are now!).   \n",
    "\n",
    "\n",
    "The inputs the webpage gets is location a, b, and events to avoid. You will not need to input any other data or files.  \n",
    "\n",
    "  <p>If you ever return to the file to run the program again, go to the Safe-Route-Home folder, and in your terminal, activate your virtual environment by writing:</p>\n",
    "  `source bin/activate`\n",
    "\n"
   ]
  },
  {
   "cell_type": "markdown",
   "metadata": {},
   "source": [
    "## License\n",
    "We are licensed by the MIT Creative Commons."
   ]
  },
  {
   "cell_type": "code",
   "execution_count": null,
   "metadata": {
    "collapsed": true
   },
   "outputs": [],
   "source": []
  }
 ],
 "metadata": {
  "kernelspec": {
   "display_name": "Python 3",
   "language": "python",
   "name": "python3"
  },
  "language_info": {
   "codemirror_mode": {
    "name": "ipython",
    "version": 3
   },
   "file_extension": ".py",
   "mimetype": "text/x-python",
   "name": "python",
   "nbconvert_exporter": "python",
   "pygments_lexer": "ipython3",
   "version": "3.5.2"
  }
 },
 "nbformat": 4,
 "nbformat_minor": 2
}
